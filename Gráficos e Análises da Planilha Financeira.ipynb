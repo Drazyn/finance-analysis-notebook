{
  "cells": [
    {
      "cell_type": "markdown",
      "source": [
        "# Analisar as finanças de sua planilha de dados\n",
        "\n",
        "Esse programa é uma adaptação que inicialmente foi baseado em um artigo da plataforma Towards DataScience que utiliza principalmente bibliotecas de processamento de dados (Pandas e Numpy) e bibliotecas gráficas (Plotly e Jupyter-Dash) para desenvolver os gráficos baseado em seus dados. ([source link](https://towardsdatascience.com/manage-your-money-with-python-707579202203))\n",
        "\n",
        "## Estrutura dos dados\n",
        "\n",
        "Os dados são lidos de uma planilha que conterá as colunas: \n",
        "- Carteira\n",
        "> É para catalogar a origem da transação financeira. (**Exemplos**: *Nubank (Crédito), Nubank (Débito), Nubank (PIX), Cateira física, etc.*)\n",
        "- Data\n",
        "> A data que ocorreu a transação financeira.\n",
        "- Nome\n",
        "> Identificação ou descrição do que é essa transação financeira.\n",
        "- Valor\n",
        "> O valor da transação financeira, tal que é positiva para remunerações e negativa para gastos.\n",
        "- Categoria\n",
        "> O tipo de gasto realizado que pode ser, por exemplo, categorizado em **ganhos** (Remuneração, Trabalho, Ajuda Familiar, etc) ou **gastos** (Mercado, Alimentação não-essencial, Bares/Restaurantes, Lazer, Transporte, Compras, Internet / Telefone / Assinaturas, Presentes / Doações, Despesas esporádicas, Urgências / Serviços, Cuidados pessoais, Saúde, Educação, Moradia, etc).\n",
        "\n",
        "# Observações\n",
        "1. As categorias precisam ser pré-definidas na estruturação dos dados.\n",
        "\n"
      ],
      "metadata": {
        "id": "3lT7lUE_R1lc"
      }
    },
    {
      "cell_type": "code",
      "execution_count": null,
      "metadata": {
        "id": "SkiDRpedML4k"
      },
      "outputs": [],
      "source": [
        "#@title Vamos inicializar o ambiente\n",
        "\n",
        "# Instalar o Jupyter-Dash no Colab Notebook\n",
        "!pip install jupyter-dash\n",
        "\n",
        "# Importar as bibliotecas de processamento de dados\n",
        "import pandas as pd                       #to perform data manipulation and analysis\n",
        "import numpy as np                        #to cleanse data\n",
        "from datetime import datetime             #to manipulate dates\n",
        "\n",
        "# Importar as bibliotecas gráficas\n",
        "import plotly.express as px               #to create interactive charts\n",
        "import plotly.graph_objects as go         #to create interactive charts\n",
        "from jupyter_dash import JupyterDash      #to build Dash apps from Jupyter environments\n",
        "from dash import dcc        #to get components for interactive user interfaces\n",
        "from dash import html       #to compose the dash layout using Python structures\n",
        "\n",
        "# Inicializar a leitura do Google Drive\n",
        "from google.colab import drive\n",
        "drive.mount('/content/drive')"
      ]
    },
    {
      "cell_type": "code",
      "execution_count": 2,
      "metadata": {
        "id": "XBp4zQQnJ2YF"
      },
      "outputs": [],
      "source": [
        "#@title Criar banco de dados e Categorias\n",
        "\n",
        "def create_clean_data():\n",
        "    dados = pd.DataFrame()\n",
        "    dados[\"Nome\"] = []\n",
        "    dados[\"Valor\"] = []\n",
        "    dados[\"Data\"] = []\n",
        "    dados[\"Categoria\"] = []\n",
        "    dados[\"Carteira\"] = []\n",
        "    return dados\n",
        "\n",
        "dados = create_clean_data()\n",
        "\n",
        "# Vamos definir as categorias:\n",
        "\n",
        "ExpanseCategories = [\"Não reconhecido\", \"Empréstimo\", \"Mercado\", \"Alimentação não-essencial\", \"Bares/Restaurantes\", \"Lazer\", \"Transporte\", \"Compras\", \"Internet / Telefone / Assinaturas\", \"Presentes / Doações\", \"Despesas esporádicas\", \"Urgências / Serviços\", \"Cuidados pessoais\", \"Saúde\", \"Educação\", \"Moradia\"]\n",
        "IncomeCategories = [\"Remuneração\", \"Reembolso\", \"Ajuda Familiar\"]"
      ]
    },
    {
      "cell_type": "code",
      "source": [
        "#@title Vamos abrir a planilha excel no Google Drive (Pasta Financero/Finanças.xlsx)\n",
        "\n",
        "dados = pd.read_excel(\"/content/drive/MyDrive/Financeiro/Finanças.xlsx\")\n",
        "display(dados)"
      ],
      "metadata": {
        "id": "0gWQvr9uG58k"
      },
      "execution_count": null,
      "outputs": []
    },
    {
      "cell_type": "code",
      "execution_count": null,
      "metadata": {
        "id": "v3i-CSHsBdeR"
      },
      "outputs": [],
      "source": [
        "import calendar\n",
        "\n",
        "df = dados\n",
        "\n",
        "df['year_month'] = [ f\"{calendar.month_name[month]} {year}\" for month, year in zip(pd.DatetimeIndex(df['Data']).month, pd.DatetimeIndex(df['Data']).year) ]\n",
        "\n",
        "display(df)\n",
        "\n",
        "Expenses = df[df[\"Categoria\"].isin(ExpanseCategories)]\n",
        "Expenses.Valor = Expenses.Valor*(-1) \n",
        "\n",
        "Incomes = df[df[\"Categoria\"].isin(IncomeCategories)]"
      ]
    },
    {
      "cell_type": "code",
      "source": [
        "months = [\"January 2021\", \"February 2021\", \"March 2021\", \"April 2021\", \"May 2021\", \"June 2021\", \n",
        "          \"July 2021\", \"August 2021\", \"September 2021\", \"October 2021\", \"November 2021\", \"December 2021\", \n",
        "          \"January 2022\", \"February 2022\", \"March 2022\", \"April 2022\", \"May 2022\", \"June 2022\", \n",
        "          \"July 2022\", \"August 2022\", \"September 2022\", \"October 2022\", \"November 2022\", \"December 2022\"]"
      ],
      "metadata": {
        "id": "Jrg5kOGKZCaA"
      },
      "execution_count": 6,
      "outputs": []
    },
    {
      "cell_type": "markdown",
      "source": [
        "Para fins de ordenamento, será necessário catalogar manualmente a ordem dos meses no formato anterior.\n",
        "\n",
        "### TODO:\n",
        "- [ ] Criar categorização das datas automaticamente"
      ],
      "metadata": {
        "id": "zXTpjj3gY-hH"
      }
    },
    {
      "cell_type": "code",
      "execution_count": null,
      "metadata": {
        "id": "UnMgAPbB9qS9"
      },
      "outputs": [],
      "source": [
        "#@title Patrimônio Líquido Pelo Tempo\n",
        "\n",
        "Net_Worth_Table = df.groupby('year_month')['Valor'].sum().reset_index(name ='sum')\n",
        "Net_Worth_Table['cumulative sum'] = Net_Worth_Table['sum'].cumsum()\n",
        "\n",
        "# Vamos ordenar os meses\n",
        "Net_Worth_Table['year_month'] = pd.Categorical(Net_Worth_Table['year_month'], categories=months, ordered=True)\n",
        "Net_Worth_Table.sort_values(by=[\"year_month\"], inplace=True)\n",
        "\n",
        "Net_Worth_Chart = go.Figure(\n",
        "    data = go.Scatter(x = Net_Worth_Table[\"year_month\"], y = Net_Worth_Table[\"cumulative sum\"]),\n",
        "    layout = go.Layout(\n",
        "        title = go.layout.Title(text = \"Patrimônio Líquido Pelo Tempo\")\n",
        "    )\n",
        ")\n",
        "Net_Worth_Chart.update_layout(\n",
        "    xaxis_title = \"Período\",\n",
        "    yaxis_title = \"Patrimônio Líquido (R$)\",\n",
        "    hovermode = 'x unified'\n",
        "    )\n",
        "Net_Worth_Chart.update_xaxes(tickangle = 45)\n",
        "Net_Worth_Chart.show()"
      ]
    },
    {
      "cell_type": "markdown",
      "metadata": {
        "id": "aJA2BzLyHwQp"
      },
      "source": [
        "# Gastos"
      ]
    },
    {
      "cell_type": "code",
      "execution_count": null,
      "metadata": {
        "id": "yxeGntF0_nbU"
      },
      "outputs": [],
      "source": [
        "#@title Gastos mensais (Total)\n",
        "\n",
        "Total_Monthly_Expenses_Table = Expenses.groupby('year_month')['Valor'].sum().reset_index(name = 'sum')\n",
        "\n",
        "# Vamos ordenar os meses\n",
        "Total_Monthly_Expenses_Table['year_month'] = pd.Categorical(Total_Monthly_Expenses_Table['year_month'], categories=months, ordered=True)\n",
        "Total_Monthly_Expenses_Table.sort_values(by=[\"year_month\"], inplace=True)\n",
        "\n",
        "Total_Monthly_Expenses_Chart = px.bar(Total_Monthly_Expenses_Table, x = \"year_month\", y = \"sum\", title = \"Gastos mensais total\")\n",
        "Total_Monthly_Expenses_Chart.update_yaxes(title = 'Gastos (R$)', visible = True, showticklabels = True)\n",
        "Total_Monthly_Expenses_Chart.update_xaxes(title = 'Período', visible = True, showticklabels = True)\n",
        "Total_Monthly_Expenses_Chart.show()"
      ]
    },
    {
      "cell_type": "code",
      "execution_count": null,
      "metadata": {
        "id": "iuwvE4T6B-sx"
      },
      "outputs": [],
      "source": [
        "#@title Gastos mensais (Por categoria)\n",
        "\n",
        "Expenses_Breakdown_Table = pd.pivot_table(Expenses, values = ['Valor'], index = ['year_month', \"Categoria\"], aggfunc=sum).reset_index()\n",
        "\n",
        "def sort_table(table):\n",
        "    table['year_month'] = pd.Categorical(table['year_month'], categories=months, ordered=True)\n",
        "    table.sort_values(by=[\"year_month\"], inplace=True)\n",
        "    table = table.reset_index(drop=True)\n",
        "    return table\n",
        "\n",
        "def populate_and_sort_table(table):\n",
        "    categorias = np.unique(table[\"Categoria\"])\n",
        "    months_years = np.unique(table[\"year_month\"])\n",
        "\n",
        "\n",
        "    for categoria in categorias:\n",
        "        for date in months_years:\n",
        "            if not ((table['year_month'] == date) & (table['Categoria'] == categoria)).any():\n",
        "                table = table.append({\"year_month\": date, \"Categoria\": categoria, \"Valor\": 0.0}, ignore_index=True)\n",
        "\n",
        "    return sort_table(table)\n",
        "\n",
        "Expenses_Breakdown_Table = populate_and_sort_table(Expenses_Breakdown_Table)\n",
        "\n",
        "Expenses_Breakdown_Chart = px.line(Expenses_Breakdown_Table, x='year_month', y=\"Valor\", title=\"Gastos por Categoria\", color = 'Categoria')\n",
        "\n",
        "Expenses_Breakdown_Chart.update_yaxes(title='Gastos (R$)', visible=True, showticklabels=True)\n",
        "Expenses_Breakdown_Chart.update_xaxes(title='Período', visible=True, showticklabels=True)\n",
        "\n",
        "Expenses_Breakdown_Chart.update_layout(xaxis=dict(type='category'))\n",
        "\n",
        "Expenses_Breakdown_Chart.update_traces(mode='markers+lines')\n",
        "\n",
        "Expenses_Breakdown_Chart.show()"
      ]
    },
    {
      "cell_type": "markdown",
      "metadata": {
        "id": "8MzQrxWUISPQ"
      },
      "source": [
        "# Rendas"
      ]
    },
    {
      "cell_type": "code",
      "execution_count": null,
      "metadata": {
        "id": "MuY6JQ7NFq4s"
      },
      "outputs": [],
      "source": [
        "#@title Rendas mensais (Total)\n",
        "\n",
        "Total_Monthly_Income_Table = Incomes.groupby('year_month')['Valor'].sum().reset_index(name = 'sum')\n",
        "Total_Monthly_Income_Table = sort_table(Total_Monthly_Income_Table)\n",
        "Total_Monthly_Income_Chart = px.bar(Total_Monthly_Income_Table, x = \"year_month\", y = \"sum\", title = \"Rendas mensais total\")\n",
        "Total_Monthly_Income_Chart.update_yaxes(title = 'Renda (R$)', visible = True, showticklabels = True)\n",
        "Total_Monthly_Income_Chart.update_xaxes(title = 'Período', visible = True, showticklabels = True)\n",
        "Total_Monthly_Income_Chart.show()"
      ]
    },
    {
      "cell_type": "code",
      "execution_count": null,
      "metadata": {
        "id": "rwocPOLCGH7X"
      },
      "outputs": [],
      "source": [
        "#@title Rendas mensais (Por categoria)\n",
        "\n",
        "Incomes_Breakdown_Table = pd.pivot_table(Incomes, values = ['Valor'], index = ['Categoria', 'year_month'], aggfunc=sum).reset_index()\n",
        "Incomes_Breakdown_Table = populate_and_sort_table(Incomes_Breakdown_Table)\n",
        "Incomes_Breakdown_Chart = px.line(Incomes_Breakdown_Table, x='year_month', y=\"Valor\", title=\"Renda por categoria\", color = 'Categoria')\n",
        "Incomes_Breakdown_Chart.update_yaxes(title='Renda (R$)', visible=True, showticklabels=True)\n",
        "Incomes_Breakdown_Chart.update_xaxes(title='Período', visible=True, showticklabels=True)\n",
        "Incomes_Breakdown_Chart.show()"
      ]
    },
    {
      "cell_type": "markdown",
      "metadata": {
        "id": "HKiA6p_cIU48"
      },
      "source": [
        "# Deploy app"
      ]
    },
    {
      "cell_type": "code",
      "execution_count": null,
      "metadata": {
        "id": "1c_XCZzCChT3"
      },
      "outputs": [],
      "source": [
        "# Build App\n",
        "app = JupyterDash(__name__)\n",
        "latest_date = \"October\"\n",
        "app.layout = html.Div([   \n",
        "    html.Div([\n",
        "        html.H1(str(latest_date)+\" Personal Finance Summary\",style={'text-align':'center'}),\n",
        "        dcc.Graph(figure = Net_Worth_Chart)\n",
        "    ]),  \n",
        "    html.Div([\n",
        "        dcc.Graph(figure = Total_Monthly_Expenses_Chart)\n",
        "    ]),   \n",
        "    html.Div([\n",
        "        dcc.Graph(figure = Expenses_Breakdown_Chart)\n",
        "    ]),\n",
        "    html.Div([\n",
        "        dcc.Graph(figure = Total_Monthly_Income_Chart)\n",
        "    ]),   \n",
        "    html.Div([\n",
        "        dcc.Graph(figure = Incomes_Breakdown_Chart)\n",
        "    ])\n",
        "])\n",
        "    \n",
        "# Run app and display result\n",
        "app.run_server(mode='external')\n",
        "\n",
        "#Click on the link below to access the \"Personal Finances Summary\""
      ]
    },
    {
      "cell_type": "markdown",
      "source": [
        "# Extra: Higinização, Organização e Formatação dos dados"
      ],
      "metadata": {
        "id": "9pigmLJlXADR"
      }
    },
    {
      "cell_type": "code",
      "source": [
        "#@title Funções adicionais para ajudar a organizar e formatar os dados\n",
        "\n",
        "# Importar extrato do guiabolso!\n",
        "def import_extrato_guiabolso(file, dados):\n",
        "    extrato = pd.read_csv(file)\n",
        "\n",
        "    for i in range(0, len(extrato)):\n",
        "        dados = dados.append({\n",
        "            \"Nome\": extrato[\"Transação\"][i],\n",
        "            \"Valor\": extrato[\"Valor da transação\"][i],\n",
        "            \"Data\": extrato[\"Data da transação\"][i],\n",
        "            \"Categoria\": extrato[\"Categoria\"][i],\n",
        "            \"Carteira\": extrato[\"Conta\"][i]\n",
        "        }, ignore_index=True)\n",
        "    \n",
        "    # EXEMPLOS DE HIGIENIZAÇÂO DOS DADOS\n",
        "    # Vamos limpar as transações internas\n",
        "    dados = dados[dados.Nome != \"Pagamento recebido\"]\n",
        "\n",
        "    # Vamos renomear categorias\n",
        "    dados.Categoria.replace([\"Contas residenciais\"], \"Moradia\",inplace=True)\n",
        "    dados.Categoria.replace([\"Bares / Restaurantes\"], \"Bares/Restaurantes\",inplace=True)\n",
        "    dados.Categoria.replace([\"TV / Internet / Telefone\"], \"Internet / Telefone / Assinaturas\",inplace=True)\n",
        "    dados.Categoria.replace([\"Transferência\"], \"Não reconhecido\",inplace=True)\n",
        "\n",
        "    dados[\"Categoria\"] = np.where(dados[\"Nome\"].str.contains('PESSOA A'), 'Lazer', dados[\"Categoria\"])\n",
        "    dados[\"Categoria\"] = np.where(dados[\"Nome\"].str.contains('ESTABELECIMENTO B'), 'Bares/Restaurantes', dados[\"Categoria\"])\n",
        "    dados[\"Categoria\"] = np.where(dados[\"Nome\"].str.contains('Uber|PAYMEE|Clickbus|Auttar'), 'Transporte', dados[\"Categoria\"])\n",
        "\n",
        "    return dados\n",
        "\n",
        "# Importar extrato do Nubank\n",
        "def import_extrato_nubank(file, dados):\n",
        "    extrato = pd.read_csv(file)\n",
        "\n",
        "    for i in range(0, len(extrato)):\n",
        "        dados = dados.append({\n",
        "            \"Nome\": extrato[\"Descrição\"][i],\n",
        "            \"Valor\": extrato[\"Valor\"][i],\n",
        "            \"Data\": extrato[\"Data\"][i],\n",
        "            \"Categoria\": \"Não reconhecido\",\n",
        "            \"Carteira\": \"Nubank\",\n",
        "        }, ignore_index=True)\n",
        "    \n",
        "    # EXEMPLOS DE HIGIENIZAÇÂO DOS DADOS\n",
        "    # Vamos limpar as transações internas\n",
        "    dados = dados[dados.Nome != \"Pagamento recebido\"]\n",
        "\n",
        "    # Vamos renomear categorias\n",
        "    dados.Categoria.replace([\"Contas residenciais\"], \"Moradia\",inplace=True)\n",
        "    dados.Categoria.replace([\"Bares / Restaurantes\"], \"Bares/Restaurantes\",inplace=True)\n",
        "    dados.Categoria.replace([\"TV / Internet / Telefone\"], \"Internet / Telefone / Assinaturas\",inplace=True)\n",
        "    dados.Categoria.replace([\"Transferência\"], \"Não reconhecido\",inplace=True)\n",
        "\n",
        "    dados[\"Categoria\"] = np.where(dados[\"Nome\"].str.contains('PESSOA A'), 'Lazer', dados[\"Categoria\"])\n",
        "    dados[\"Categoria\"] = np.where(dados[\"Nome\"].str.contains('ESTABELECIMENTO B'), 'Bares/Restaurantes', dados[\"Categoria\"])\n",
        "    dados[\"Categoria\"] = np.where(dados[\"Nome\"].str.contains('Uber|PAYMEE|Clickbus|Auttar'), 'Transporte', dados[\"Categoria\"])\n",
        "\n",
        "    return dados"
      ],
      "metadata": {
        "id": "pr9kS_WtVr-s"
      },
      "execution_count": null,
      "outputs": []
    },
    {
      "cell_type": "code",
      "source": [
        "#@title Exemplo de organização dos dados\n",
        "\n",
        "# Vamos ler os dados de Janeiro e Fevereiro de 2022\n",
        "dados = create_clean_data() # Iniciamos o DataFrame limpo\n",
        "dados = import_extrato_guiabolso(\"/content/extrato_guiabolso 2022.csv\", dados) # Importamos a planilha csv\n",
        "dados.sort_values(by=[\"Data\"], inplace=True) # Ordenamos a planilha csv por data\n",
        "dados = dados.reset_index(drop=True)[0:64] # Escolhemos os primeiro 65 elementos (nessa planilha são as transações de Jan/Fev)\n",
        "\n",
        "# Vamos importar transações que ocorrem mensalmente mas não estão catalogadas\n",
        "for i in range(0, 9): #Mar, Abril, Maio, Junho, Julho, Agosto, Setembro, Outubro, Novembro\n",
        "    dados = dados.append({\n",
        "        \"Nome\": \"Aluguel\",\n",
        "        \"Valor\": -750,\n",
        "        \"Data\": f\"2022-{i+3}-15\",\n",
        "        \"Categoria\": \"Moradia\",\n",
        "        \"Carteira\": \"Nubank (Débito)\"\n",
        "    }, ignore_index=True)\n",
        "    dados = dados.append({\n",
        "        \"Nome\": \"Recebimento de trabalho\",\n",
        "        \"Valor\": 2000,\n",
        "        \"Data\": f\"2022-{i+3}-15\",\n",
        "        \"Categoria\": \"Remuneração\",\n",
        "        \"Carteira\": \"Nubank\"\n",
        "    }, ignore_index=True)\n",
        "\n",
        "# Vamos ler os dados de 2021\n",
        "dados = import_extrato_guiabolso(\"/content/extrato_guiabolso 2021.csv\", dados)\n",
        "\n",
        "# Vamos concatenar e ordenar os dados concatena\n",
        "dados['Data']= pd.to_datetime(dados['Data']) # Vamos garantir que todas as datas estejam no mesmo tipo\n",
        "dados.sort_values(by=[\"Data\"], inplace=True) # Vamos ordenar as transações por datas\n",
        "dados = dados.reset_index(drop=True) # Vamos resetar a contagem do index\n",
        "\n",
        "display(dados) # Vamos visualizar os dados"
      ],
      "metadata": {
        "id": "LMElJV7VXEiW"
      },
      "execution_count": null,
      "outputs": []
    }
  ],
  "metadata": {
    "colab": {
      "provenance": [],
      "authorship_tag": "ABX9TyM4bFk/G+ViZvTJMGtasA7I"
    },
    "kernelspec": {
      "display_name": "Python 3",
      "name": "python3"
    },
    "language_info": {
      "name": "python"
    }
  },
  "nbformat": 4,
  "nbformat_minor": 0
}